{
  "nbformat": 4,
  "nbformat_minor": 0,
  "metadata": {
    "colab": {
      "provenance": []
    },
    "kernelspec": {
      "name": "python3",
      "display_name": "Python 3"
    },
    "language_info": {
      "name": "python"
    }
  },
  "cells": [
    {
      "cell_type": "code",
      "execution_count": null,
      "metadata": {
        "colab": {
          "base_uri": "https://localhost:8080/"
        },
        "id": "MyOR0LPx5CWh",
        "outputId": "701527b5-1803-48f0-a4e5-e14bc019c908"
      },
      "outputs": [
        {
          "output_type": "stream",
          "name": "stdout",
          "text": [
            "The area of the circle is 78.5\n"
          ]
        }
      ],
      "source": [
        "# Write a Python program to find the area of a circle with a given radius using the formula area = pi * r ** 2. Assume that pi is 3.14.\n",
        "radius = 5\n",
        "pi = 3.14\n",
        "area = pi * radius ** 2\n",
        "print(\"The area of the circle is\", area)"
      ]
    },
    {
      "cell_type": "code",
      "source": [
        "# Write a Python program to convert Celsius to Fahrenheit using the formula F = (C * 9/5) + 32\n",
        "celsius = 37\n",
        "fahrenheit = (celsius * 9/5) + 32\n",
        "print(\"The Fahrenheit temperature is\", fahrenheit)"
      ],
      "metadata": {
        "colab": {
          "base_uri": "https://localhost:8080/"
        },
        "id": "NGZTXd_h5I8u",
        "outputId": "432e62c9-444a-4ec9-c2f5-7965d92608b8"
      },
      "execution_count": null,
      "outputs": [
        {
          "output_type": "stream",
          "name": "stdout",
          "text": [
            "The Fahrenheit temperature is 98.6\n"
          ]
        }
      ]
    },
    {
      "cell_type": "code",
      "source": [
        "# Write a Python program to find the quotient and remainder of two numbers using the division operator / and the modulo operator %.\n",
        "dividend = 10\n",
        "divisor = 3\n",
        "quotient = dividend / divisor\n",
        "remainder = dividend % divisor\n",
        "print(\"The quotient is\", quotient)\n",
        "print(\"The remainder is\", remainder)"
      ],
      "metadata": {
        "colab": {
          "base_uri": "https://localhost:8080/"
        },
        "id": "jAVemEaV5LXR",
        "outputId": "d3130399-fef4-4226-fe91-e3c3c4d5d4a6"
      },
      "execution_count": null,
      "outputs": [
        {
          "output_type": "stream",
          "name": "stdout",
          "text": [
            "The quotient is 3.3333333333333335\n",
            "The remainder is 1\n"
          ]
        }
      ]
    },
    {
      "cell_type": "code",
      "source": [
        "# Write a Python program to check whether a given number is even or odd using the modulo operator %.\n",
        "number = 10\n",
        "if number % 2 == 0:\n",
        "  print(\"The number is even.\")\n",
        "else:\n",
        "  print(\"The number is odd.\")"
      ],
      "metadata": {
        "colab": {
          "base_uri": "https://localhost:8080/"
        },
        "id": "n_BZgBLf5NuB",
        "outputId": "c8ca580e-0554-4711-99dd-eab337ce9adb"
      },
      "execution_count": null,
      "outputs": [
        {
          "output_type": "stream",
          "name": "stdout",
          "text": [
            "The number is even.\n"
          ]
        }
      ]
    },
    {
      "cell_type": "code",
      "source": [
        "# Write a Python program to calculate the average of three numbers entered by the user.\n",
        "num1 = 10\n",
        "num2 = 20\n",
        "num3 = 30\n",
        "average = (num1 + num2 + num3) / 3\n",
        "print(\"The average of the three numbers is\", average)"
      ],
      "metadata": {
        "colab": {
          "base_uri": "https://localhost:8080/"
        },
        "id": "yTqAEa8g5R64",
        "outputId": "74990492-edd6-4737-9186-7b81effed625"
      },
      "execution_count": null,
      "outputs": [
        {
          "output_type": "stream",
          "name": "stdout",
          "text": [
            "The average of the three numbers is 20.0\n"
          ]
        }
      ]
    },
    {
      "cell_type": "code",
      "source": [
        "# Write a Python program to swap two variables without using a temporary variable.\n",
        "x = 10\n",
        "y = 20\n",
        "x = x ^ y\n",
        "y = x ^ y\n",
        "x = x ^ y\n",
        "print(\"The value of x is\", x)\n",
        "print(\"The value of y is\", y)"
      ],
      "metadata": {
        "colab": {
          "base_uri": "https://localhost:8080/"
        },
        "id": "-7tKBkyX5U1o",
        "outputId": "27b9803a-56c3-4ab4-a5db-5e10eb11992f"
      },
      "execution_count": null,
      "outputs": [
        {
          "output_type": "stream",
          "name": "stdout",
          "text": [
            "The value of x is 20\n",
            "The value of y is 10\n"
          ]
        }
      ]
    },
    {
      "cell_type": "code",
      "source": [
        "# Write a Python program to calculate the area of a rectangle with given length and breadth.\n",
        "length = 10\n",
        "breadth = 5\n",
        "area = length * breadth\n",
        "print(\"The area of the rectangle is\", area)"
      ],
      "metadata": {
        "colab": {
          "base_uri": "https://localhost:8080/"
        },
        "id": "L7avB3CN5Xjt",
        "outputId": "2412f5d8-8c2e-4662-812f-c87b175a8ee8"
      },
      "execution_count": null,
      "outputs": [
        {
          "output_type": "stream",
          "name": "stdout",
          "text": [
            "The area of the rectangle is 50\n"
          ]
        }
      ]
    },
    {
      "cell_type": "code",
      "source": [
        "# Write a Python program to calculate the sum of the digits of a three-digit number.\n",
        "number = 123\n",
        "sum_of_digits = number // 100 + (number % 100) // 10 + number % 10\n",
        "print(\"The sum of the digits of the number is\", sum_of_digits)"
      ],
      "metadata": {
        "colab": {
          "base_uri": "https://localhost:8080/"
        },
        "id": "k-LXFpZg5cI1",
        "outputId": "734ff6b7-98c7-4f9d-ca06-d6acbc7100d9"
      },
      "execution_count": null,
      "outputs": [
        {
          "output_type": "stream",
          "name": "stdout",
          "text": [
            "The sum of the digits of the number is 6\n"
          ]
        }
      ]
    },
    {
      "cell_type": "code",
      "source": [
        "# Write a Python program to check whether a given year is a leap year or not.\n",
        "year = 2020\n",
        "if year % 4 == 0:\n",
        "  if year % 100 == 0:\n",
        "    if year % 400 == 0:\n",
        "      print(\"The year is a leap year.\")\n",
        "    else:\n",
        "      print(\"The year is not a leap year.\")\n",
        "  else:\n",
        "    print(\"The year is a leap year.\")\n",
        "else:\n",
        "  print(\"The year is not a leap year.\")"
      ],
      "metadata": {
        "colab": {
          "base_uri": "https://localhost:8080/"
        },
        "id": "v_T7StIO5efL",
        "outputId": "fdd2cdfe-68ce-492f-d7f4-1cdfc2df4f63"
      },
      "execution_count": null,
      "outputs": [
        {
          "output_type": "stream",
          "name": "stdout",
          "text": [
            "The year is a leap year.\n"
          ]
        }
      ]
    },
    {
      "cell_type": "code",
      "source": [
        "# Write a Python program to find the maximum and minimum of two numbers entered by the user.\n",
        "num1 = float(input(\"Enter the first number: \"))\n",
        "num2 = float(input(\"Enter the second number: \"))\n",
        "if num1 > num2:\n",
        "  max_num = num1\n",
        "else:\n",
        "  max_num = num2\n",
        "if num1 < num2:\n",
        "  min_num = num1\n",
        "else:\n",
        "  min_num = num2\n",
        "print(\"The maximum of the two numbers is\", max_num)\n",
        "print(\"The minimum of the two numbers is\", min_num)"
      ],
      "metadata": {
        "colab": {
          "base_uri": "https://localhost:8080/"
        },
        "id": "NOVkpNLy5gt3",
        "outputId": "ac43628e-0ef6-44f3-85c1-2aea4a092859"
      },
      "execution_count": null,
      "outputs": [
        {
          "output_type": "stream",
          "name": "stdout",
          "text": [
            "Enter the first number: 10\n",
            "Enter the second number: 5\n",
            "The maximum of the two numbers is 10.0\n",
            "The minimum of the two numbers is 5.0\n"
          ]
        }
      ]
    }
  ]
}